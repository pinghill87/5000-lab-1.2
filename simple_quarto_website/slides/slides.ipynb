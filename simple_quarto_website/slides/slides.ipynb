{
 "cells": [
  {
   "cell_type": "markdown",
   "metadata": {},
   "source": [
    "---\n",
    "title: \"Habits\"\n",
    "author: \"John Doe\"\n",
    "format: revealjs\n",
    "bibliography: ../reference.bib\n",
    "jupyter: python3\n",
    "code-fold: true \n",
    "---"
   ]
  },
  {
   "cell_type": "markdown",
   "metadata": {},
   "source": [
    "## Things I enjoy \n",
    "\n",
    "- beaches\n",
    "- dogs\n",
    "  \n",
    "![Science](images/beach.png){width=50%}\n",
    "\n",
    "## My favourite foods\n",
    "\n",
    "- Spaghetii\n",
    "- Burgers\n",
    "\n",
    "![Science](images/burger.png){width=50%}\n",
    "\n",
    "\n",
    "## My favourite subjects\n",
    "\n",
    "- Data Science\n",
    "- Neuroscience\n",
    "\n",
    "I love learning about deep learning as it is very powerful and interesting [@voulodimos2018deep]\n",
    "[@brunton2020machine]"
   ]
  },
  {
   "cell_type": "markdown",
   "metadata": {},
   "source": [
    "## Slide Title\n",
    "\n",
    "```{python}\n",
    "import matplotlib.pyplot as plt\n",
    "import numpy as np\n",
    "\n",
    "x = np.linspace(0, 10, 100)\n",
    "y = np.sin(x)\n",
    "\n",
    "plt.plot(x, y)\n",
    "plt.title('Sine Wave')\n",
    "plt.show()\n",
    "```"
   ]
  },
  {
   "cell_type": "code",
   "execution_count": null,
   "metadata": {},
   "outputs": [],
   "source": []
  }
 ],
 "metadata": {
  "language_info": {
   "name": "python"
  }
 },
 "nbformat": 4,
 "nbformat_minor": 2
}
